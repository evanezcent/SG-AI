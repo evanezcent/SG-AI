{
 "cells": [
  {
   "cell_type": "markdown",
   "metadata": {},
   "source": [
    "# KELOMPOK 1 - TAMA"
   ]
  },
  {
   "cell_type": "code",
   "execution_count": 103,
   "metadata": {},
   "outputs": [],
   "source": [
    "import pandas as pd\n",
    "import numpy as np\n",
    "import math\n",
    "from heapq import nsmallest"
   ]
  },
  {
   "cell_type": "code",
   "execution_count": 104,
   "metadata": {},
   "outputs": [
    {
     "data": {
      "text/html": [
       "<div>\n",
       "<style scoped>\n",
       "    .dataframe tbody tr th:only-of-type {\n",
       "        vertical-align: middle;\n",
       "    }\n",
       "\n",
       "    .dataframe tbody tr th {\n",
       "        vertical-align: top;\n",
       "    }\n",
       "\n",
       "    .dataframe thead th {\n",
       "        text-align: right;\n",
       "    }\n",
       "</style>\n",
       "<table border=\"1\" class=\"dataframe\">\n",
       "  <thead>\n",
       "    <tr style=\"text-align: right;\">\n",
       "      <th></th>\n",
       "      <th>Temperatur Udara</th>\n",
       "      <th>Kecepatan Angin</th>\n",
       "      <th>Klasifikasi</th>\n",
       "    </tr>\n",
       "  </thead>\n",
       "  <tbody>\n",
       "    <tr>\n",
       "      <th>0</th>\n",
       "      <td>10</td>\n",
       "      <td>0</td>\n",
       "      <td>Dingin</td>\n",
       "    </tr>\n",
       "    <tr>\n",
       "      <th>1</th>\n",
       "      <td>25</td>\n",
       "      <td>0</td>\n",
       "      <td>Panas</td>\n",
       "    </tr>\n",
       "    <tr>\n",
       "      <th>2</th>\n",
       "      <td>15</td>\n",
       "      <td>5</td>\n",
       "      <td>Dingin</td>\n",
       "    </tr>\n",
       "    <tr>\n",
       "      <th>3</th>\n",
       "      <td>20</td>\n",
       "      <td>3</td>\n",
       "      <td>Panas</td>\n",
       "    </tr>\n",
       "    <tr>\n",
       "      <th>4</th>\n",
       "      <td>18</td>\n",
       "      <td>7</td>\n",
       "      <td>Dingin</td>\n",
       "    </tr>\n",
       "    <tr>\n",
       "      <th>5</th>\n",
       "      <td>20</td>\n",
       "      <td>10</td>\n",
       "      <td>Dingin</td>\n",
       "    </tr>\n",
       "    <tr>\n",
       "      <th>6</th>\n",
       "      <td>22</td>\n",
       "      <td>5</td>\n",
       "      <td>Panas</td>\n",
       "    </tr>\n",
       "    <tr>\n",
       "      <th>7</th>\n",
       "      <td>24</td>\n",
       "      <td>6</td>\n",
       "      <td>Panas</td>\n",
       "    </tr>\n",
       "  </tbody>\n",
       "</table>\n",
       "</div>"
      ],
      "text/plain": [
       "   Temperatur Udara  Kecepatan Angin Klasifikasi\n",
       "0                10                0      Dingin\n",
       "1                25                0       Panas\n",
       "2                15                5      Dingin\n",
       "3                20                3       Panas\n",
       "4                18                7      Dingin\n",
       "5                20               10      Dingin\n",
       "6                22                5       Panas\n",
       "7                24                6       Panas"
      ]
     },
     "execution_count": 104,
     "metadata": {},
     "output_type": "execute_result"
    }
   ],
   "source": [
    "dataFrame = pd.read_csv(\"dataKNN1.csv\")\n",
    "dataFrame"
   ]
  },
  {
   "cell_type": "code",
   "execution_count": 105,
   "metadata": {},
   "outputs": [],
   "source": [
    "dataX = dataFrame['Temperatur Udara']\n",
    "dataY = dataFrame['Kecepatan Angin']\n",
    "dataXY=dataFrame['Klasifikasi']\n",
    "\n",
    "xTanya = 16\n",
    "yTanya = 10\n",
    "\n",
    "hasil = []\n",
    "\n",
    "for i in range(0,len(dataFrame)):\n",
    "    result = math.pow((xTanya - dataX[i]),2) + math.pow((yTanya - dataY[i]),2)\n",
    "    \n",
    "    temp = []  #make new list to save result and \"Klasifikasi\"\n",
    "    temp.append(math.sqrt(result))\n",
    "    temp.append(dataXY[i])\n",
    "    hasil.append(temp)  #List to save List of temp\n",
    "    "
   ]
  },
  {
   "cell_type": "code",
   "execution_count": 106,
   "metadata": {},
   "outputs": [
    {
     "name": "stdout",
     "output_type": "stream",
     "text": [
      "Hasil : Dingin\n",
      "DINGIN :  60.0  % , PANAS :  40.0  %\n"
     ]
    }
   ],
   "source": [
    "k = 5\n",
    "\n",
    "hasil.sort()\n",
    "cold = 0\n",
    "hot = 0\n",
    "\n",
    "for idx in hasil[:k]:\n",
    "# for idx in range(0,len(hasil[:k])):\n",
    "    \n",
    "    if (idx[1]=='Panas'):     #idx[1] means list hasil[idx][1]\n",
    "        hot+=1\n",
    "\n",
    "    else:\n",
    "        cold+=1\n",
    "        \n",
    "        \n",
    "if (cold>hot):\n",
    "    print(\"Hasil : Dingin\")\n",
    "elif (hot>cold):\n",
    "    print(\"Hasil : Panas\")\n",
    "else :\n",
    "    print(\"Confuse !\")  #if value data is equals\n",
    "    \n",
    "print(\"DINGIN : \",str(cold/k*100),\" %\",\", PANAS : \",str(hot/k*100),\" %\")"
   ]
  }
 ],
 "metadata": {
  "kernelspec": {
   "display_name": "Python 3",
   "language": "python",
   "name": "python3"
  },
  "language_info": {
   "codemirror_mode": {
    "name": "ipython",
    "version": 3
   },
   "file_extension": ".py",
   "mimetype": "text/x-python",
   "name": "python",
   "nbconvert_exporter": "python",
   "pygments_lexer": "ipython3",
   "version": "3.7.1"
  }
 },
 "nbformat": 4,
 "nbformat_minor": 2
}

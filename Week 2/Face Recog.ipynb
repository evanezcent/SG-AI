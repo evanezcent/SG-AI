{
 "cells": [
  {
   "cell_type": "code",
   "execution_count": 2,
   "metadata": {},
   "outputs": [],
   "source": [
    "import numpy as np\n",
    "import cv2\n",
    "\n",
    "from sklearn.neighbors import KNeighborsClassifier"
   ]
  },
  {
   "cell_type": "code",
   "execution_count": 4,
   "metadata": {},
   "outputs": [],
   "source": [
    "cam = cv2.VideoCapture(0)\n",
    "face = cv2.CascadeClassifier('haarcascade_frontalface_alt.xml')\n",
    "font = cv2.FONT_HERSHEY_SIMPLEX    #ngebedain object untuk deteksi bagian muka depan\n",
    "\n",
    "#Load Data\n",
    "file1 = np.load('face_Tama.npy').reshape((20, -1))\n",
    "# file2 = np.load('face_Temen.npy').reshape((20, -1))\n",
    "\n",
    "# data1 = np.concatenate((file1))\n",
    "data1 = file1\n",
    "\n",
    "labels = np.zeros((data1.shape[0]))  #dilabeli 0 semua\n",
    "# labels[20:40] = 1.0\n",
    "# labels[40:60] = 2.0\n",
    "\n",
    "names = {\n",
    "    0 : \"Tama\"\n",
    "}\n",
    "\n",
    "KNN = KNeighborsClassifier(n_neighbors = 5)   #ngecek perbedaan pada 5 gambar\n",
    "\n",
    "while True :\n",
    "    ret, frame = cam.read()  #ret = return\n",
    "    if ret : \n",
    "        gray = cv2.cvtColor(frame, cv2.COLOR_BGR2GRAY)   #membuat muka hitam putih\n",
    "        faces = face.detectMultiScale(gray, 1.3, 5)\n",
    "        \n",
    "        for (x, y, w, h) in faces :\n",
    "            face_component = frame[y:y+h, x:x+w, :]\n",
    "            face_component = cv2.resize(face_component, (50,50)).flatten()\n",
    "            KNN.fit(data1, labels)\n",
    "            text = names[int(KNN.predict([face_component]))]  #text yang muncul di prediksi dari face_component\n",
    "            cv2.putText(frame, text, (x, y), font, 1, (255, 255, 0), 2)\n",
    "            cv2.rectangle(frame, (x, y), (x+w, y+h), (0, 0, 255), 2)\n",
    "        \n",
    "        cv2.imshow('frame', frame)\n",
    "        if (cv2.waitKey(1) == 27) :\n",
    "            break\n",
    "    else :\n",
    "        print(\"Lah Error\")\n",
    "        break\n",
    "\n",
    "cv2.destroyAllWindows()\n",
    "cam.release()"
   ]
  }
 ],
 "metadata": {
  "kernelspec": {
   "display_name": "Python 3",
   "language": "python",
   "name": "python3"
  },
  "language_info": {
   "codemirror_mode": {
    "name": "ipython",
    "version": 3
   },
   "file_extension": ".py",
   "mimetype": "text/x-python",
   "name": "python",
   "nbconvert_exporter": "python",
   "pygments_lexer": "ipython3",
   "version": "3.7.1"
  }
 },
 "nbformat": 4,
 "nbformat_minor": 2
}

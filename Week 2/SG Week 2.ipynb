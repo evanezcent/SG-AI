{
 "cells": [
  {
   "cell_type": "code",
   "execution_count": 1,
   "metadata": {},
   "outputs": [],
   "source": [
    "import numpy as mp\n",
    "import cv2"
   ]
  },
  {
   "cell_type": "code",
   "execution_count": 2,
   "metadata": {},
   "outputs": [],
   "source": [
    "cam = cv2.VideoCapture(0)\n",
    "face = cv2.CascadeClassifier('haarcascade_frontalface_alt.xml')\n",
    "\n",
    "data = []\n",
    "idx = 0"
   ]
  },
  {
   "cell_type": "code",
   "execution_count": 3,
   "metadata": {},
   "outputs": [
    {
     "name": "stdout",
     "output_type": "stream",
     "text": [
      "Ntap Soul 1\n",
      "Ntap Soul 2\n",
      "Ntap Soul 3\n",
      "Ntap Soul 4\n",
      "Ntap Soul 5\n",
      "Ntap Soul 6\n",
      "Ntap Soul 7\n",
      "Ntap Soul 8\n",
      "Ntap Soul 9\n",
      "Ntap Soul 10\n",
      "Ntap Soul 11\n",
      "Ntap Soul 12\n",
      "Ntap Soul 13\n",
      "Ntap Soul 14\n",
      "Ntap Soul 15\n",
      "Ntap Soul 16\n",
      "Ntap Soul 17\n",
      "Ntap Soul 18\n",
      "Ntap Soul 19\n",
      "Ntap Soul 20\n",
      "(20, 50, 50, 3)\n"
     ]
    }
   ],
   "source": [
    "while True :\n",
    "    ret, frame = cam.read()    #ret = camera nyala\n",
    "    if ret == True :\n",
    "        gray = cv2.cvtColor(frame, cv2.COLOR_BGR2GRAY)\n",
    "        faces = face.detectMultiScale(gray, 1.3, 5)\n",
    "        for (x, y, w, h) in faces :\n",
    "            face_component = frame[y:y+h, x:x+w, :]\n",
    "            face_component = cv2.resize(face_component, (50, 50))  #di resize menjadi 50x50\n",
    "            \n",
    "            if (x % 10 == 0) and (len(data)<20) :\n",
    "                data.append(face_component)\n",
    "                print(\"Ntap Soul\", len(data))\n",
    "            cv2.rectangle(frame, (x,y), (x+w, y+h), (0, 255, 0), 2)\n",
    "            \n",
    "        #diluar for\n",
    "        idx += 1\n",
    "        cv2.imshow('frame', frame)\n",
    "            \n",
    "        if (cv2.waitKey(1) == 27) or (len(data) >= 20) :    #waitkey = algoritma membuka camera dan mengambil foto sebanyak lendata\n",
    "            break\n",
    "    else : \n",
    "        print(\"Lah Error\")\n",
    "        break\n",
    "                \n",
    "cam.release()\n",
    "cv2.destroyAllWindows()\n",
    "data = mp.asarray(data)\n",
    "\n",
    "print(data.shape)\n",
    "mp.save('face_Tama', data)\n",
    "                "
   ]
  }
 ],
 "metadata": {
  "kernelspec": {
   "display_name": "Python 3",
   "language": "python",
   "name": "python3"
  },
  "language_info": {
   "codemirror_mode": {
    "name": "ipython",
    "version": 3
   },
   "file_extension": ".py",
   "mimetype": "text/x-python",
   "name": "python",
   "nbconvert_exporter": "python",
   "pygments_lexer": "ipython3",
   "version": "3.7.1"
  }
 },
 "nbformat": 4,
 "nbformat_minor": 2
}
